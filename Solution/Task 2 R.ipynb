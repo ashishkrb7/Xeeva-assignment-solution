{
 "cells": [
  {
   "cell_type": "markdown",
   "metadata": {},
   "source": [
    "# Task 2"
   ]
  },
  {
   "cell_type": "markdown",
   "metadata": {},
   "source": [
    "### R-Programming: Read EmployeeData xlsx file (3 sheets)"
   ]
  },
  {
   "cell_type": "code",
   "execution_count": 22,
   "metadata": {},
   "outputs": [],
   "source": [
    "# Import libraries\n",
    "library(\"readxl\")\n",
    "library(\"writexl\")\n",
    "library(\"dplyr\")"
   ]
  },
  {
   "cell_type": "code",
   "execution_count": 3,
   "metadata": {},
   "outputs": [
    {
     "data": {
      "text/html": [
       "<style>\n",
       ".list-inline {list-style: none; margin:0; padding: 0}\n",
       ".list-inline>li {display: inline-block}\n",
       ".list-inline>li:not(:last-child)::after {content: \"\\00b7\"; padding: 0 .5ex}\n",
       "</style>\n",
       "<ol class=list-inline><li>'IT'</li><li>'Admin'</li><li>'Support'</li></ol>\n"
      ],
      "text/latex": [
       "\\begin{enumerate*}\n",
       "\\item 'IT'\n",
       "\\item 'Admin'\n",
       "\\item 'Support'\n",
       "\\end{enumerate*}\n"
      ],
      "text/markdown": [
       "1. 'IT'\n",
       "2. 'Admin'\n",
       "3. 'Support'\n",
       "\n",
       "\n"
      ],
      "text/plain": [
       "[1] \"IT\"      \"Admin\"   \"Support\""
      ]
     },
     "metadata": {},
     "output_type": "display_data"
    }
   ],
   "source": [
    "excel_sheets(path = \"../Data/EmployeeData.xlsx\")"
   ]
  },
  {
   "cell_type": "code",
   "execution_count": 4,
   "metadata": {},
   "outputs": [],
   "source": [
    "IT= read_excel(\"../Data/EmployeeData.xlsx\",sheet = \"IT\")\n",
    "Admin= read_excel(\"../Data/EmployeeData.xlsx\",sheet = \"Admin\")\n",
    "Support= read_excel(\"../Data/EmployeeData.xlsx\",sheet = \"Support\")"
   ]
  },
  {
   "cell_type": "code",
   "execution_count": 5,
   "metadata": {},
   "outputs": [
    {
     "data": {
      "text/html": [
       "<table>\n",
       "<caption>A tibble: 8 × 4</caption>\n",
       "<thead>\n",
       "\t<tr><th scope=col>Name</th><th scope=col>Dept</th><th scope=col>Salary</th><th scope=col>RcvDate</th></tr>\n",
       "\t<tr><th scope=col>&lt;chr&gt;</th><th scope=col>&lt;chr&gt;</th><th scope=col>&lt;dbl&gt;</th><th scope=col>&lt;dttm&gt;</th></tr>\n",
       "</thead>\n",
       "<tbody>\n",
       "\t<tr><td>Vertie    </td><td>IT</td><td> 3000</td><td>2018-08-05</td></tr>\n",
       "\t<tr><td>Charlsie  </td><td>IT</td><td> 2000</td><td>2018-08-05</td></tr>\n",
       "\t<tr><td>Manual    </td><td>IT</td><td> 4000</td><td>2018-08-05</td></tr>\n",
       "\t<tr><td>Trudi     </td><td>IT</td><td> 6000</td><td>2018-08-05</td></tr>\n",
       "\t<tr><td>Chong     </td><td>IT</td><td> 5600</td><td>2018-08-05</td></tr>\n",
       "\t<tr><td>Chong     </td><td>IT</td><td> 5600</td><td>2018-08-06</td></tr>\n",
       "\t<tr><td>Vertie    </td><td>IT</td><td> 3000</td><td>2018-08-06</td></tr>\n",
       "\t<tr><td>Deedee    </td><td>IT</td><td>20000</td><td>2018-08-06</td></tr>\n",
       "</tbody>\n",
       "</table>\n"
      ],
      "text/latex": [
       "A tibble: 8 × 4\n",
       "\\begin{tabular}{llll}\n",
       " Name & Dept & Salary & RcvDate\\\\\n",
       " <chr> & <chr> & <dbl> & <dttm>\\\\\n",
       "\\hline\n",
       "\t Vertie     & IT &  3000 & 2018-08-05\\\\\n",
       "\t Charlsie   & IT &  2000 & 2018-08-05\\\\\n",
       "\t Manual     & IT &  4000 & 2018-08-05\\\\\n",
       "\t Trudi      & IT &  6000 & 2018-08-05\\\\\n",
       "\t Chong      & IT &  5600 & 2018-08-05\\\\\n",
       "\t Chong      & IT &  5600 & 2018-08-06\\\\\n",
       "\t Vertie     & IT &  3000 & 2018-08-06\\\\\n",
       "\t Deedee     & IT & 20000 & 2018-08-06\\\\\n",
       "\\end{tabular}\n"
      ],
      "text/markdown": [
       "\n",
       "A tibble: 8 × 4\n",
       "\n",
       "| Name &lt;chr&gt; | Dept &lt;chr&gt; | Salary &lt;dbl&gt; | RcvDate &lt;dttm&gt; |\n",
       "|---|---|---|---|\n",
       "| Vertie     | IT |  3000 | 2018-08-05 |\n",
       "| Charlsie   | IT |  2000 | 2018-08-05 |\n",
       "| Manual     | IT |  4000 | 2018-08-05 |\n",
       "| Trudi      | IT |  6000 | 2018-08-05 |\n",
       "| Chong      | IT |  5600 | 2018-08-05 |\n",
       "| Chong      | IT |  5600 | 2018-08-06 |\n",
       "| Vertie     | IT |  3000 | 2018-08-06 |\n",
       "| Deedee     | IT | 20000 | 2018-08-06 |\n",
       "\n"
      ],
      "text/plain": [
       "  Name       Dept Salary RcvDate   \n",
       "1 Vertie     IT    3000  2018-08-05\n",
       "2 Charlsie   IT    2000  2018-08-05\n",
       "3 Manual     IT    4000  2018-08-05\n",
       "4 Trudi      IT    6000  2018-08-05\n",
       "5 Chong      IT    5600  2018-08-05\n",
       "6 Chong      IT    5600  2018-08-06\n",
       "7 Vertie     IT    3000  2018-08-06\n",
       "8 Deedee     IT   20000  2018-08-06"
      ]
     },
     "metadata": {},
     "output_type": "display_data"
    }
   ],
   "source": [
    "IT"
   ]
  },
  {
   "cell_type": "code",
   "execution_count": 6,
   "metadata": {},
   "outputs": [
    {
     "data": {
      "text/html": [
       "<table>\n",
       "<caption>A tibble: 12 × 4</caption>\n",
       "<thead>\n",
       "\t<tr><th scope=col>Name</th><th scope=col>Dept</th><th scope=col>Salary</th><th scope=col>RcvDate</th></tr>\n",
       "\t<tr><th scope=col>&lt;chr&gt;</th><th scope=col>&lt;chr&gt;</th><th scope=col>&lt;dbl&gt;</th><th scope=col>&lt;dttm&gt;</th></tr>\n",
       "</thead>\n",
       "<tbody>\n",
       "\t<tr><td>Ramonita   </td><td>Admin</td><td>9500</td><td>2018-08-06</td></tr>\n",
       "\t<tr><td>Terica     </td><td>Admin</td><td>8900</td><td>2018-08-06</td></tr>\n",
       "\t<tr><td>Hyman      </td><td>Admin</td><td>7200</td><td>2018-08-06</td></tr>\n",
       "\t<tr><td>Alysha     </td><td>Admin</td><td>4400</td><td>2018-08-06</td></tr>\n",
       "\t<tr><td>Tabitha    </td><td>Admin</td><td>6500</td><td>2018-08-06</td></tr>\n",
       "\t<tr><td>Mackenzie  </td><td>Admin</td><td>8700</td><td>2018-08-06</td></tr>\n",
       "\t<tr><td>Amparo     </td><td>Admin</td><td>9100</td><td>2018-08-06</td></tr>\n",
       "\t<tr><td>Tabitha    </td><td>Admin</td><td>6500</td><td>2018-08-06</td></tr>\n",
       "\t<tr><td>Burl       </td><td>Admin</td><td>6000</td><td>2018-08-06</td></tr>\n",
       "\t<tr><td>Pok        </td><td>Admin</td><td>5600</td><td>2018-08-06</td></tr>\n",
       "\t<tr><td>Junie      </td><td>Admin</td><td>9500</td><td>2018-08-06</td></tr>\n",
       "\t<tr><td>Rodrick    </td><td>Admin</td><td>8900</td><td>2018-08-06</td></tr>\n",
       "</tbody>\n",
       "</table>\n"
      ],
      "text/latex": [
       "A tibble: 12 × 4\n",
       "\\begin{tabular}{llll}\n",
       " Name & Dept & Salary & RcvDate\\\\\n",
       " <chr> & <chr> & <dbl> & <dttm>\\\\\n",
       "\\hline\n",
       "\t Ramonita    & Admin & 9500 & 2018-08-06\\\\\n",
       "\t Terica      & Admin & 8900 & 2018-08-06\\\\\n",
       "\t Hyman       & Admin & 7200 & 2018-08-06\\\\\n",
       "\t Alysha      & Admin & 4400 & 2018-08-06\\\\\n",
       "\t Tabitha     & Admin & 6500 & 2018-08-06\\\\\n",
       "\t Mackenzie   & Admin & 8700 & 2018-08-06\\\\\n",
       "\t Amparo      & Admin & 9100 & 2018-08-06\\\\\n",
       "\t Tabitha     & Admin & 6500 & 2018-08-06\\\\\n",
       "\t Burl        & Admin & 6000 & 2018-08-06\\\\\n",
       "\t Pok         & Admin & 5600 & 2018-08-06\\\\\n",
       "\t Junie       & Admin & 9500 & 2018-08-06\\\\\n",
       "\t Rodrick     & Admin & 8900 & 2018-08-06\\\\\n",
       "\\end{tabular}\n"
      ],
      "text/markdown": [
       "\n",
       "A tibble: 12 × 4\n",
       "\n",
       "| Name &lt;chr&gt; | Dept &lt;chr&gt; | Salary &lt;dbl&gt; | RcvDate &lt;dttm&gt; |\n",
       "|---|---|---|---|\n",
       "| Ramonita    | Admin | 9500 | 2018-08-06 |\n",
       "| Terica      | Admin | 8900 | 2018-08-06 |\n",
       "| Hyman       | Admin | 7200 | 2018-08-06 |\n",
       "| Alysha      | Admin | 4400 | 2018-08-06 |\n",
       "| Tabitha     | Admin | 6500 | 2018-08-06 |\n",
       "| Mackenzie   | Admin | 8700 | 2018-08-06 |\n",
       "| Amparo      | Admin | 9100 | 2018-08-06 |\n",
       "| Tabitha     | Admin | 6500 | 2018-08-06 |\n",
       "| Burl        | Admin | 6000 | 2018-08-06 |\n",
       "| Pok         | Admin | 5600 | 2018-08-06 |\n",
       "| Junie       | Admin | 9500 | 2018-08-06 |\n",
       "| Rodrick     | Admin | 8900 | 2018-08-06 |\n",
       "\n"
      ],
      "text/plain": [
       "   Name        Dept  Salary RcvDate   \n",
       "1  Ramonita    Admin 9500   2018-08-06\n",
       "2  Terica      Admin 8900   2018-08-06\n",
       "3  Hyman       Admin 7200   2018-08-06\n",
       "4  Alysha      Admin 4400   2018-08-06\n",
       "5  Tabitha     Admin 6500   2018-08-06\n",
       "6  Mackenzie   Admin 8700   2018-08-06\n",
       "7  Amparo      Admin 9100   2018-08-06\n",
       "8  Tabitha     Admin 6500   2018-08-06\n",
       "9  Burl        Admin 6000   2018-08-06\n",
       "10 Pok         Admin 5600   2018-08-06\n",
       "11 Junie       Admin 9500   2018-08-06\n",
       "12 Rodrick     Admin 8900   2018-08-06"
      ]
     },
     "metadata": {},
     "output_type": "display_data"
    }
   ],
   "source": [
    "Admin"
   ]
  },
  {
   "cell_type": "code",
   "execution_count": 7,
   "metadata": {},
   "outputs": [
    {
     "data": {
      "text/html": [
       "<table>\n",
       "<caption>A tibble: 6 × 4</caption>\n",
       "<thead>\n",
       "\t<tr><th scope=col>Name</th><th scope=col>Dept</th><th scope=col>Salary</th><th scope=col>RcvDate</th></tr>\n",
       "\t<tr><th scope=col>&lt;chr&gt;</th><th scope=col>&lt;chr&gt;</th><th scope=col>&lt;dbl&gt;</th><th scope=col>&lt;dttm&gt;</th></tr>\n",
       "</thead>\n",
       "<tbody>\n",
       "\t<tr><td>Maryln  </td><td>Support</td><td>7200</td><td>2018-08-06</td></tr>\n",
       "\t<tr><td>Tina    </td><td>Support</td><td>4400</td><td>2018-08-07</td></tr>\n",
       "\t<tr><td>Wilson  </td><td>Support</td><td>6500</td><td>2018-08-07</td></tr>\n",
       "\t<tr><td>Manual  </td><td>Support</td><td>7600</td><td>2018-08-07</td></tr>\n",
       "\t<tr><td>Deedee  </td><td>Support</td><td>8200</td><td>2018-08-07</td></tr>\n",
       "\t<tr><td>Maryln  </td><td>Support</td><td>7200</td><td>2018-08-07</td></tr>\n",
       "</tbody>\n",
       "</table>\n"
      ],
      "text/latex": [
       "A tibble: 6 × 4\n",
       "\\begin{tabular}{llll}\n",
       " Name & Dept & Salary & RcvDate\\\\\n",
       " <chr> & <chr> & <dbl> & <dttm>\\\\\n",
       "\\hline\n",
       "\t Maryln   & Support & 7200 & 2018-08-06\\\\\n",
       "\t Tina     & Support & 4400 & 2018-08-07\\\\\n",
       "\t Wilson   & Support & 6500 & 2018-08-07\\\\\n",
       "\t Manual   & Support & 7600 & 2018-08-07\\\\\n",
       "\t Deedee   & Support & 8200 & 2018-08-07\\\\\n",
       "\t Maryln   & Support & 7200 & 2018-08-07\\\\\n",
       "\\end{tabular}\n"
      ],
      "text/markdown": [
       "\n",
       "A tibble: 6 × 4\n",
       "\n",
       "| Name &lt;chr&gt; | Dept &lt;chr&gt; | Salary &lt;dbl&gt; | RcvDate &lt;dttm&gt; |\n",
       "|---|---|---|---|\n",
       "| Maryln   | Support | 7200 | 2018-08-06 |\n",
       "| Tina     | Support | 4400 | 2018-08-07 |\n",
       "| Wilson   | Support | 6500 | 2018-08-07 |\n",
       "| Manual   | Support | 7600 | 2018-08-07 |\n",
       "| Deedee   | Support | 8200 | 2018-08-07 |\n",
       "| Maryln   | Support | 7200 | 2018-08-07 |\n",
       "\n"
      ],
      "text/plain": [
       "  Name     Dept    Salary RcvDate   \n",
       "1 Maryln   Support 7200   2018-08-06\n",
       "2 Tina     Support 4400   2018-08-07\n",
       "3 Wilson   Support 6500   2018-08-07\n",
       "4 Manual   Support 7600   2018-08-07\n",
       "5 Deedee   Support 8200   2018-08-07\n",
       "6 Maryln   Support 7200   2018-08-07"
      ]
     },
     "metadata": {},
     "output_type": "display_data"
    }
   ],
   "source": [
    "Support"
   ]
  },
  {
   "cell_type": "markdown",
   "metadata": {},
   "source": [
    "### a. Add all files"
   ]
  },
  {
   "cell_type": "code",
   "execution_count": 8,
   "metadata": {},
   "outputs": [],
   "source": [
    "data = rbind(IT, Admin,Support)"
   ]
  },
  {
   "cell_type": "markdown",
   "metadata": {},
   "source": [
    "### b. File has fields: Name | Dept | RcvDate"
   ]
  },
  {
   "cell_type": "code",
   "execution_count": 9,
   "metadata": {},
   "outputs": [
    {
     "data": {
      "text/html": [
       "<table>\n",
       "<caption>A tibble: 26 × 4</caption>\n",
       "<thead>\n",
       "\t<tr><th scope=col>Name</th><th scope=col>Dept</th><th scope=col>Salary</th><th scope=col>RcvDate</th></tr>\n",
       "\t<tr><th scope=col>&lt;chr&gt;</th><th scope=col>&lt;chr&gt;</th><th scope=col>&lt;dbl&gt;</th><th scope=col>&lt;dttm&gt;</th></tr>\n",
       "</thead>\n",
       "<tbody>\n",
       "\t<tr><td>Vertie     </td><td>IT     </td><td> 3000</td><td>2018-08-05</td></tr>\n",
       "\t<tr><td>Charlsie   </td><td>IT     </td><td> 2000</td><td>2018-08-05</td></tr>\n",
       "\t<tr><td>Manual     </td><td>IT     </td><td> 4000</td><td>2018-08-05</td></tr>\n",
       "\t<tr><td>Trudi      </td><td>IT     </td><td> 6000</td><td>2018-08-05</td></tr>\n",
       "\t<tr><td>Chong      </td><td>IT     </td><td> 5600</td><td>2018-08-05</td></tr>\n",
       "\t<tr><td>Chong      </td><td>IT     </td><td> 5600</td><td>2018-08-06</td></tr>\n",
       "\t<tr><td>Vertie     </td><td>IT     </td><td> 3000</td><td>2018-08-06</td></tr>\n",
       "\t<tr><td>Deedee     </td><td>IT     </td><td>20000</td><td>2018-08-06</td></tr>\n",
       "\t<tr><td>Ramonita   </td><td>Admin  </td><td> 9500</td><td>2018-08-06</td></tr>\n",
       "\t<tr><td>Terica     </td><td>Admin  </td><td> 8900</td><td>2018-08-06</td></tr>\n",
       "\t<tr><td>Hyman      </td><td>Admin  </td><td> 7200</td><td>2018-08-06</td></tr>\n",
       "\t<tr><td>Alysha     </td><td>Admin  </td><td> 4400</td><td>2018-08-06</td></tr>\n",
       "\t<tr><td>Tabitha    </td><td>Admin  </td><td> 6500</td><td>2018-08-06</td></tr>\n",
       "\t<tr><td>Mackenzie  </td><td>Admin  </td><td> 8700</td><td>2018-08-06</td></tr>\n",
       "\t<tr><td>Amparo     </td><td>Admin  </td><td> 9100</td><td>2018-08-06</td></tr>\n",
       "\t<tr><td>Tabitha    </td><td>Admin  </td><td> 6500</td><td>2018-08-06</td></tr>\n",
       "\t<tr><td>Burl       </td><td>Admin  </td><td> 6000</td><td>2018-08-06</td></tr>\n",
       "\t<tr><td>Pok        </td><td>Admin  </td><td> 5600</td><td>2018-08-06</td></tr>\n",
       "\t<tr><td>Junie      </td><td>Admin  </td><td> 9500</td><td>2018-08-06</td></tr>\n",
       "\t<tr><td>Rodrick    </td><td>Admin  </td><td> 8900</td><td>2018-08-06</td></tr>\n",
       "\t<tr><td>Maryln     </td><td>Support</td><td> 7200</td><td>2018-08-06</td></tr>\n",
       "\t<tr><td>Tina       </td><td>Support</td><td> 4400</td><td>2018-08-07</td></tr>\n",
       "\t<tr><td>Wilson     </td><td>Support</td><td> 6500</td><td>2018-08-07</td></tr>\n",
       "\t<tr><td>Manual     </td><td>Support</td><td> 7600</td><td>2018-08-07</td></tr>\n",
       "\t<tr><td>Deedee     </td><td>Support</td><td> 8200</td><td>2018-08-07</td></tr>\n",
       "\t<tr><td>Maryln     </td><td>Support</td><td> 7200</td><td>2018-08-07</td></tr>\n",
       "</tbody>\n",
       "</table>\n"
      ],
      "text/latex": [
       "A tibble: 26 × 4\n",
       "\\begin{tabular}{llll}\n",
       " Name & Dept & Salary & RcvDate\\\\\n",
       " <chr> & <chr> & <dbl> & <dttm>\\\\\n",
       "\\hline\n",
       "\t Vertie      & IT      &  3000 & 2018-08-05\\\\\n",
       "\t Charlsie    & IT      &  2000 & 2018-08-05\\\\\n",
       "\t Manual      & IT      &  4000 & 2018-08-05\\\\\n",
       "\t Trudi       & IT      &  6000 & 2018-08-05\\\\\n",
       "\t Chong       & IT      &  5600 & 2018-08-05\\\\\n",
       "\t Chong       & IT      &  5600 & 2018-08-06\\\\\n",
       "\t Vertie      & IT      &  3000 & 2018-08-06\\\\\n",
       "\t Deedee      & IT      & 20000 & 2018-08-06\\\\\n",
       "\t Ramonita    & Admin   &  9500 & 2018-08-06\\\\\n",
       "\t Terica      & Admin   &  8900 & 2018-08-06\\\\\n",
       "\t Hyman       & Admin   &  7200 & 2018-08-06\\\\\n",
       "\t Alysha      & Admin   &  4400 & 2018-08-06\\\\\n",
       "\t Tabitha     & Admin   &  6500 & 2018-08-06\\\\\n",
       "\t Mackenzie   & Admin   &  8700 & 2018-08-06\\\\\n",
       "\t Amparo      & Admin   &  9100 & 2018-08-06\\\\\n",
       "\t Tabitha     & Admin   &  6500 & 2018-08-06\\\\\n",
       "\t Burl        & Admin   &  6000 & 2018-08-06\\\\\n",
       "\t Pok         & Admin   &  5600 & 2018-08-06\\\\\n",
       "\t Junie       & Admin   &  9500 & 2018-08-06\\\\\n",
       "\t Rodrick     & Admin   &  8900 & 2018-08-06\\\\\n",
       "\t Maryln      & Support &  7200 & 2018-08-06\\\\\n",
       "\t Tina        & Support &  4400 & 2018-08-07\\\\\n",
       "\t Wilson      & Support &  6500 & 2018-08-07\\\\\n",
       "\t Manual      & Support &  7600 & 2018-08-07\\\\\n",
       "\t Deedee      & Support &  8200 & 2018-08-07\\\\\n",
       "\t Maryln      & Support &  7200 & 2018-08-07\\\\\n",
       "\\end{tabular}\n"
      ],
      "text/markdown": [
       "\n",
       "A tibble: 26 × 4\n",
       "\n",
       "| Name &lt;chr&gt; | Dept &lt;chr&gt; | Salary &lt;dbl&gt; | RcvDate &lt;dttm&gt; |\n",
       "|---|---|---|---|\n",
       "| Vertie      | IT      |  3000 | 2018-08-05 |\n",
       "| Charlsie    | IT      |  2000 | 2018-08-05 |\n",
       "| Manual      | IT      |  4000 | 2018-08-05 |\n",
       "| Trudi       | IT      |  6000 | 2018-08-05 |\n",
       "| Chong       | IT      |  5600 | 2018-08-05 |\n",
       "| Chong       | IT      |  5600 | 2018-08-06 |\n",
       "| Vertie      | IT      |  3000 | 2018-08-06 |\n",
       "| Deedee      | IT      | 20000 | 2018-08-06 |\n",
       "| Ramonita    | Admin   |  9500 | 2018-08-06 |\n",
       "| Terica      | Admin   |  8900 | 2018-08-06 |\n",
       "| Hyman       | Admin   |  7200 | 2018-08-06 |\n",
       "| Alysha      | Admin   |  4400 | 2018-08-06 |\n",
       "| Tabitha     | Admin   |  6500 | 2018-08-06 |\n",
       "| Mackenzie   | Admin   |  8700 | 2018-08-06 |\n",
       "| Amparo      | Admin   |  9100 | 2018-08-06 |\n",
       "| Tabitha     | Admin   |  6500 | 2018-08-06 |\n",
       "| Burl        | Admin   |  6000 | 2018-08-06 |\n",
       "| Pok         | Admin   |  5600 | 2018-08-06 |\n",
       "| Junie       | Admin   |  9500 | 2018-08-06 |\n",
       "| Rodrick     | Admin   |  8900 | 2018-08-06 |\n",
       "| Maryln      | Support |  7200 | 2018-08-06 |\n",
       "| Tina        | Support |  4400 | 2018-08-07 |\n",
       "| Wilson      | Support |  6500 | 2018-08-07 |\n",
       "| Manual      | Support |  7600 | 2018-08-07 |\n",
       "| Deedee      | Support |  8200 | 2018-08-07 |\n",
       "| Maryln      | Support |  7200 | 2018-08-07 |\n",
       "\n"
      ],
      "text/plain": [
       "   Name        Dept    Salary RcvDate   \n",
       "1  Vertie      IT       3000  2018-08-05\n",
       "2  Charlsie    IT       2000  2018-08-05\n",
       "3  Manual      IT       4000  2018-08-05\n",
       "4  Trudi       IT       6000  2018-08-05\n",
       "5  Chong       IT       5600  2018-08-05\n",
       "6  Chong       IT       5600  2018-08-06\n",
       "7  Vertie      IT       3000  2018-08-06\n",
       "8  Deedee      IT      20000  2018-08-06\n",
       "9  Ramonita    Admin    9500  2018-08-06\n",
       "10 Terica      Admin    8900  2018-08-06\n",
       "11 Hyman       Admin    7200  2018-08-06\n",
       "12 Alysha      Admin    4400  2018-08-06\n",
       "13 Tabitha     Admin    6500  2018-08-06\n",
       "14 Mackenzie   Admin    8700  2018-08-06\n",
       "15 Amparo      Admin    9100  2018-08-06\n",
       "16 Tabitha     Admin    6500  2018-08-06\n",
       "17 Burl        Admin    6000  2018-08-06\n",
       "18 Pok         Admin    5600  2018-08-06\n",
       "19 Junie       Admin    9500  2018-08-06\n",
       "20 Rodrick     Admin    8900  2018-08-06\n",
       "21 Maryln      Support  7200  2018-08-06\n",
       "22 Tina        Support  4400  2018-08-07\n",
       "23 Wilson      Support  6500  2018-08-07\n",
       "24 Manual      Support  7600  2018-08-07\n",
       "25 Deedee      Support  8200  2018-08-07\n",
       "26 Maryln      Support  7200  2018-08-07"
      ]
     },
     "metadata": {},
     "output_type": "display_data"
    }
   ],
   "source": [
    "data"
   ]
  },
  {
   "cell_type": "code",
   "execution_count": 10,
   "metadata": {},
   "outputs": [],
   "source": [
    "write_xlsx(data,\"../EmployeeData_processed.xlsx\")"
   ]
  },
  {
   "cell_type": "markdown",
   "metadata": {},
   "source": [
    "### c. Remove Duplicate Records based on Key (Name, Dept, Salary)"
   ]
  },
  {
   "cell_type": "code",
   "execution_count": 11,
   "metadata": {},
   "outputs": [
    {
     "data": {
      "text/html": [
       "<style>\n",
       ".list-inline {list-style: none; margin:0; padding: 0}\n",
       ".list-inline>li {display: inline-block}\n",
       ".list-inline>li:not(:last-child)::after {content: \"\\00b7\"; padding: 0 .5ex}\n",
       "</style>\n",
       "<ol class=list-inline><li>26</li><li>4</li></ol>\n"
      ],
      "text/latex": [
       "\\begin{enumerate*}\n",
       "\\item 26\n",
       "\\item 4\n",
       "\\end{enumerate*}\n"
      ],
      "text/markdown": [
       "1. 26\n",
       "2. 4\n",
       "\n",
       "\n"
      ],
      "text/plain": [
       "[1] 26  4"
      ]
     },
     "metadata": {},
     "output_type": "display_data"
    }
   ],
   "source": [
    "dim(data)"
   ]
  },
  {
   "cell_type": "code",
   "execution_count": 12,
   "metadata": {},
   "outputs": [],
   "source": [
    "Unique_data = distinct(data,Name, Dept, Salary)"
   ]
  },
  {
   "cell_type": "code",
   "execution_count": 13,
   "metadata": {},
   "outputs": [
    {
     "data": {
      "text/html": [
       "<style>\n",
       ".list-inline {list-style: none; margin:0; padding: 0}\n",
       ".list-inline>li {display: inline-block}\n",
       ".list-inline>li:not(:last-child)::after {content: \"\\00b7\"; padding: 0 .5ex}\n",
       "</style>\n",
       "<ol class=list-inline><li>22</li><li>3</li></ol>\n"
      ],
      "text/latex": [
       "\\begin{enumerate*}\n",
       "\\item 22\n",
       "\\item 3\n",
       "\\end{enumerate*}\n"
      ],
      "text/markdown": [
       "1. 22\n",
       "2. 3\n",
       "\n",
       "\n"
      ],
      "text/plain": [
       "[1] 22  3"
      ]
     },
     "metadata": {},
     "output_type": "display_data"
    }
   ],
   "source": [
    "dim(Unique_data)"
   ]
  },
  {
   "cell_type": "code",
   "execution_count": 14,
   "metadata": {},
   "outputs": [
    {
     "data": {
      "text/html": [
       "<table>\n",
       "<caption>A tibble: 22 × 3</caption>\n",
       "<thead>\n",
       "\t<tr><th scope=col>Name</th><th scope=col>Dept</th><th scope=col>Salary</th></tr>\n",
       "\t<tr><th scope=col>&lt;chr&gt;</th><th scope=col>&lt;chr&gt;</th><th scope=col>&lt;dbl&gt;</th></tr>\n",
       "</thead>\n",
       "<tbody>\n",
       "\t<tr><td>Vertie     </td><td>IT     </td><td> 3000</td></tr>\n",
       "\t<tr><td>Charlsie   </td><td>IT     </td><td> 2000</td></tr>\n",
       "\t<tr><td>Manual     </td><td>IT     </td><td> 4000</td></tr>\n",
       "\t<tr><td>Trudi      </td><td>IT     </td><td> 6000</td></tr>\n",
       "\t<tr><td>Chong      </td><td>IT     </td><td> 5600</td></tr>\n",
       "\t<tr><td>Deedee     </td><td>IT     </td><td>20000</td></tr>\n",
       "\t<tr><td>Ramonita   </td><td>Admin  </td><td> 9500</td></tr>\n",
       "\t<tr><td>Terica     </td><td>Admin  </td><td> 8900</td></tr>\n",
       "\t<tr><td>Hyman      </td><td>Admin  </td><td> 7200</td></tr>\n",
       "\t<tr><td>Alysha     </td><td>Admin  </td><td> 4400</td></tr>\n",
       "\t<tr><td>Tabitha    </td><td>Admin  </td><td> 6500</td></tr>\n",
       "\t<tr><td>Mackenzie  </td><td>Admin  </td><td> 8700</td></tr>\n",
       "\t<tr><td>Amparo     </td><td>Admin  </td><td> 9100</td></tr>\n",
       "\t<tr><td>Burl       </td><td>Admin  </td><td> 6000</td></tr>\n",
       "\t<tr><td>Pok        </td><td>Admin  </td><td> 5600</td></tr>\n",
       "\t<tr><td>Junie      </td><td>Admin  </td><td> 9500</td></tr>\n",
       "\t<tr><td>Rodrick    </td><td>Admin  </td><td> 8900</td></tr>\n",
       "\t<tr><td>Maryln     </td><td>Support</td><td> 7200</td></tr>\n",
       "\t<tr><td>Tina       </td><td>Support</td><td> 4400</td></tr>\n",
       "\t<tr><td>Wilson     </td><td>Support</td><td> 6500</td></tr>\n",
       "\t<tr><td>Manual     </td><td>Support</td><td> 7600</td></tr>\n",
       "\t<tr><td>Deedee     </td><td>Support</td><td> 8200</td></tr>\n",
       "</tbody>\n",
       "</table>\n"
      ],
      "text/latex": [
       "A tibble: 22 × 3\n",
       "\\begin{tabular}{lll}\n",
       " Name & Dept & Salary\\\\\n",
       " <chr> & <chr> & <dbl>\\\\\n",
       "\\hline\n",
       "\t Vertie      & IT      &  3000\\\\\n",
       "\t Charlsie    & IT      &  2000\\\\\n",
       "\t Manual      & IT      &  4000\\\\\n",
       "\t Trudi       & IT      &  6000\\\\\n",
       "\t Chong       & IT      &  5600\\\\\n",
       "\t Deedee      & IT      & 20000\\\\\n",
       "\t Ramonita    & Admin   &  9500\\\\\n",
       "\t Terica      & Admin   &  8900\\\\\n",
       "\t Hyman       & Admin   &  7200\\\\\n",
       "\t Alysha      & Admin   &  4400\\\\\n",
       "\t Tabitha     & Admin   &  6500\\\\\n",
       "\t Mackenzie   & Admin   &  8700\\\\\n",
       "\t Amparo      & Admin   &  9100\\\\\n",
       "\t Burl        & Admin   &  6000\\\\\n",
       "\t Pok         & Admin   &  5600\\\\\n",
       "\t Junie       & Admin   &  9500\\\\\n",
       "\t Rodrick     & Admin   &  8900\\\\\n",
       "\t Maryln      & Support &  7200\\\\\n",
       "\t Tina        & Support &  4400\\\\\n",
       "\t Wilson      & Support &  6500\\\\\n",
       "\t Manual      & Support &  7600\\\\\n",
       "\t Deedee      & Support &  8200\\\\\n",
       "\\end{tabular}\n"
      ],
      "text/markdown": [
       "\n",
       "A tibble: 22 × 3\n",
       "\n",
       "| Name &lt;chr&gt; | Dept &lt;chr&gt; | Salary &lt;dbl&gt; |\n",
       "|---|---|---|\n",
       "| Vertie      | IT      |  3000 |\n",
       "| Charlsie    | IT      |  2000 |\n",
       "| Manual      | IT      |  4000 |\n",
       "| Trudi       | IT      |  6000 |\n",
       "| Chong       | IT      |  5600 |\n",
       "| Deedee      | IT      | 20000 |\n",
       "| Ramonita    | Admin   |  9500 |\n",
       "| Terica      | Admin   |  8900 |\n",
       "| Hyman       | Admin   |  7200 |\n",
       "| Alysha      | Admin   |  4400 |\n",
       "| Tabitha     | Admin   |  6500 |\n",
       "| Mackenzie   | Admin   |  8700 |\n",
       "| Amparo      | Admin   |  9100 |\n",
       "| Burl        | Admin   |  6000 |\n",
       "| Pok         | Admin   |  5600 |\n",
       "| Junie       | Admin   |  9500 |\n",
       "| Rodrick     | Admin   |  8900 |\n",
       "| Maryln      | Support |  7200 |\n",
       "| Tina        | Support |  4400 |\n",
       "| Wilson      | Support |  6500 |\n",
       "| Manual      | Support |  7600 |\n",
       "| Deedee      | Support |  8200 |\n",
       "\n"
      ],
      "text/plain": [
       "   Name        Dept    Salary\n",
       "1  Vertie      IT       3000 \n",
       "2  Charlsie    IT       2000 \n",
       "3  Manual      IT       4000 \n",
       "4  Trudi       IT       6000 \n",
       "5  Chong       IT       5600 \n",
       "6  Deedee      IT      20000 \n",
       "7  Ramonita    Admin    9500 \n",
       "8  Terica      Admin    8900 \n",
       "9  Hyman       Admin    7200 \n",
       "10 Alysha      Admin    4400 \n",
       "11 Tabitha     Admin    6500 \n",
       "12 Mackenzie   Admin    8700 \n",
       "13 Amparo      Admin    9100 \n",
       "14 Burl        Admin    6000 \n",
       "15 Pok         Admin    5600 \n",
       "16 Junie       Admin    9500 \n",
       "17 Rodrick     Admin    8900 \n",
       "18 Maryln      Support  7200 \n",
       "19 Tina        Support  4400 \n",
       "20 Wilson      Support  6500 \n",
       "21 Manual      Support  7600 \n",
       "22 Deedee      Support  8200 "
      ]
     },
     "metadata": {},
     "output_type": "display_data"
    }
   ],
   "source": [
    "Unique_data"
   ]
  },
  {
   "cell_type": "markdown",
   "metadata": {},
   "source": [
    "### d. Club data by Dept and show output as: Dept | Salary Range | Num of Employees"
   ]
  },
  {
   "cell_type": "code",
   "execution_count": 20,
   "metadata": {},
   "outputs": [],
   "source": [
    "df1 = group_by(Unique_data,Dept) %>% summarise(Minimum_Salary = min(Salary),Maximum_Salary = max(Salary))"
   ]
  },
  {
   "cell_type": "code",
   "execution_count": 21,
   "metadata": {},
   "outputs": [
    {
     "data": {
      "text/html": [
       "<table>\n",
       "<caption>A tibble: 3 × 3</caption>\n",
       "<thead>\n",
       "\t<tr><th scope=col>Dept</th><th scope=col>Minimum_Salary</th><th scope=col>Maximum_Salary</th></tr>\n",
       "\t<tr><th scope=col>&lt;chr&gt;</th><th scope=col>&lt;dbl&gt;</th><th scope=col>&lt;dbl&gt;</th></tr>\n",
       "</thead>\n",
       "<tbody>\n",
       "\t<tr><td>Admin  </td><td>4400</td><td> 9500</td></tr>\n",
       "\t<tr><td>IT     </td><td>2000</td><td>20000</td></tr>\n",
       "\t<tr><td>Support</td><td>4400</td><td> 8200</td></tr>\n",
       "</tbody>\n",
       "</table>\n"
      ],
      "text/latex": [
       "A tibble: 3 × 3\n",
       "\\begin{tabular}{lll}\n",
       " Dept & Minimum\\_Salary & Maximum\\_Salary\\\\\n",
       " <chr> & <dbl> & <dbl>\\\\\n",
       "\\hline\n",
       "\t Admin   & 4400 &  9500\\\\\n",
       "\t IT      & 2000 & 20000\\\\\n",
       "\t Support & 4400 &  8200\\\\\n",
       "\\end{tabular}\n"
      ],
      "text/markdown": [
       "\n",
       "A tibble: 3 × 3\n",
       "\n",
       "| Dept &lt;chr&gt; | Minimum_Salary &lt;dbl&gt; | Maximum_Salary &lt;dbl&gt; |\n",
       "|---|---|---|\n",
       "| Admin   | 4400 |  9500 |\n",
       "| IT      | 2000 | 20000 |\n",
       "| Support | 4400 |  8200 |\n",
       "\n"
      ],
      "text/plain": [
       "  Dept    Minimum_Salary Maximum_Salary\n",
       "1 Admin   4400            9500         \n",
       "2 IT      2000           20000         \n",
       "3 Support 4400            8200         "
      ]
     },
     "metadata": {},
     "output_type": "display_data"
    }
   ],
   "source": [
    "df1"
   ]
  },
  {
   "cell_type": "code",
   "execution_count": 24,
   "metadata": {},
   "outputs": [
    {
     "data": {
      "text/html": [
       "<table>\n",
       "<caption>A data.frame: 3 × 2</caption>\n",
       "<thead>\n",
       "\t<tr><th scope=col>Dept</th><th scope=col>freq</th></tr>\n",
       "\t<tr><th scope=col>&lt;chr&gt;</th><th scope=col>&lt;int&gt;</th></tr>\n",
       "</thead>\n",
       "<tbody>\n",
       "\t<tr><td>Admin  </td><td>11</td></tr>\n",
       "\t<tr><td>IT     </td><td> 6</td></tr>\n",
       "\t<tr><td>Support</td><td> 5</td></tr>\n",
       "</tbody>\n",
       "</table>\n"
      ],
      "text/latex": [
       "A data.frame: 3 × 2\n",
       "\\begin{tabular}{ll}\n",
       " Dept & freq\\\\\n",
       " <chr> & <int>\\\\\n",
       "\\hline\n",
       "\t Admin   & 11\\\\\n",
       "\t IT      &  6\\\\\n",
       "\t Support &  5\\\\\n",
       "\\end{tabular}\n"
      ],
      "text/markdown": [
       "\n",
       "A data.frame: 3 × 2\n",
       "\n",
       "| Dept &lt;chr&gt; | freq &lt;int&gt; |\n",
       "|---|---|\n",
       "| Admin   | 11 |\n",
       "| IT      |  6 |\n",
       "| Support |  5 |\n",
       "\n"
      ],
      "text/plain": [
       "  Dept    freq\n",
       "1 Admin   11  \n",
       "2 IT       6  \n",
       "3 Support  5  "
      ]
     },
     "metadata": {},
     "output_type": "display_data"
    }
   ],
   "source": [
    "library(\"plyr\")\n",
    "df2 = count(Unique_data,\"Dept\")\n",
    "df2"
   ]
  },
  {
   "cell_type": "code",
   "execution_count": 27,
   "metadata": {},
   "outputs": [],
   "source": [
    "df3 = merge(df1, df2, by.x=\"Dept\", by.y=\"Dept\")"
   ]
  },
  {
   "cell_type": "code",
   "execution_count": 39,
   "metadata": {},
   "outputs": [],
   "source": [
    "df3$SalaryRange=paste(df3$Minimum_Salary,\"-\",df3$Maximum_Salary)"
   ]
  },
  {
   "cell_type": "code",
   "execution_count": 40,
   "metadata": {},
   "outputs": [
    {
     "data": {
      "text/html": [
       "<table>\n",
       "<caption>A data.frame: 3 × 5</caption>\n",
       "<thead>\n",
       "\t<tr><th scope=col>Dept</th><th scope=col>Minimum_Salary</th><th scope=col>Maximum_Salary</th><th scope=col>freq</th><th scope=col>SalaryRange</th></tr>\n",
       "\t<tr><th scope=col>&lt;chr&gt;</th><th scope=col>&lt;dbl&gt;</th><th scope=col>&lt;dbl&gt;</th><th scope=col>&lt;int&gt;</th><th scope=col>&lt;chr&gt;</th></tr>\n",
       "</thead>\n",
       "<tbody>\n",
       "\t<tr><td>Admin  </td><td>4400</td><td> 9500</td><td>11</td><td>4400 - 9500 </td></tr>\n",
       "\t<tr><td>IT     </td><td>2000</td><td>20000</td><td> 6</td><td>2000 - 20000</td></tr>\n",
       "\t<tr><td>Support</td><td>4400</td><td> 8200</td><td> 5</td><td>4400 - 8200 </td></tr>\n",
       "</tbody>\n",
       "</table>\n"
      ],
      "text/latex": [
       "A data.frame: 3 × 5\n",
       "\\begin{tabular}{lllll}\n",
       " Dept & Minimum\\_Salary & Maximum\\_Salary & freq & SalaryRange\\\\\n",
       " <chr> & <dbl> & <dbl> & <int> & <chr>\\\\\n",
       "\\hline\n",
       "\t Admin   & 4400 &  9500 & 11 & 4400 - 9500 \\\\\n",
       "\t IT      & 2000 & 20000 &  6 & 2000 - 20000\\\\\n",
       "\t Support & 4400 &  8200 &  5 & 4400 - 8200 \\\\\n",
       "\\end{tabular}\n"
      ],
      "text/markdown": [
       "\n",
       "A data.frame: 3 × 5\n",
       "\n",
       "| Dept &lt;chr&gt; | Minimum_Salary &lt;dbl&gt; | Maximum_Salary &lt;dbl&gt; | freq &lt;int&gt; | SalaryRange &lt;chr&gt; |\n",
       "|---|---|---|---|---|\n",
       "| Admin   | 4400 |  9500 | 11 | 4400 - 9500  |\n",
       "| IT      | 2000 | 20000 |  6 | 2000 - 20000 |\n",
       "| Support | 4400 |  8200 |  5 | 4400 - 8200  |\n",
       "\n"
      ],
      "text/plain": [
       "  Dept    Minimum_Salary Maximum_Salary freq SalaryRange \n",
       "1 Admin   4400            9500          11   4400 - 9500 \n",
       "2 IT      2000           20000           6   2000 - 20000\n",
       "3 Support 4400            8200           5   4400 - 8200 "
      ]
     },
     "metadata": {},
     "output_type": "display_data"
    }
   ],
   "source": [
    "df3"
   ]
  },
  {
   "cell_type": "code",
   "execution_count": 50,
   "metadata": {},
   "outputs": [],
   "source": [
    "df4=rename(df3, c(\"freq\"=\"Num_of_Employees\"))"
   ]
  },
  {
   "cell_type": "code",
   "execution_count": 52,
   "metadata": {},
   "outputs": [],
   "source": [
    "data_final = select(df4,-Minimum_Salary,-Maximum_Salary)"
   ]
  },
  {
   "cell_type": "code",
   "execution_count": 53,
   "metadata": {},
   "outputs": [
    {
     "data": {
      "text/html": [
       "<table>\n",
       "<caption>A data.frame: 3 × 3</caption>\n",
       "<thead>\n",
       "\t<tr><th scope=col>Dept</th><th scope=col>Num_of_Employees</th><th scope=col>SalaryRange</th></tr>\n",
       "\t<tr><th scope=col>&lt;chr&gt;</th><th scope=col>&lt;int&gt;</th><th scope=col>&lt;chr&gt;</th></tr>\n",
       "</thead>\n",
       "<tbody>\n",
       "\t<tr><td>Admin  </td><td>11</td><td>4400 - 9500 </td></tr>\n",
       "\t<tr><td>IT     </td><td> 6</td><td>2000 - 20000</td></tr>\n",
       "\t<tr><td>Support</td><td> 5</td><td>4400 - 8200 </td></tr>\n",
       "</tbody>\n",
       "</table>\n"
      ],
      "text/latex": [
       "A data.frame: 3 × 3\n",
       "\\begin{tabular}{lll}\n",
       " Dept & Num\\_of\\_Employees & SalaryRange\\\\\n",
       " <chr> & <int> & <chr>\\\\\n",
       "\\hline\n",
       "\t Admin   & 11 & 4400 - 9500 \\\\\n",
       "\t IT      &  6 & 2000 - 20000\\\\\n",
       "\t Support &  5 & 4400 - 8200 \\\\\n",
       "\\end{tabular}\n"
      ],
      "text/markdown": [
       "\n",
       "A data.frame: 3 × 3\n",
       "\n",
       "| Dept &lt;chr&gt; | Num_of_Employees &lt;int&gt; | SalaryRange &lt;chr&gt; |\n",
       "|---|---|---|\n",
       "| Admin   | 11 | 4400 - 9500  |\n",
       "| IT      |  6 | 2000 - 20000 |\n",
       "| Support |  5 | 4400 - 8200  |\n",
       "\n"
      ],
      "text/plain": [
       "  Dept    Num_of_Employees SalaryRange \n",
       "1 Admin   11               4400 - 9500 \n",
       "2 IT       6               2000 - 20000\n",
       "3 Support  5               4400 - 8200 "
      ]
     },
     "metadata": {},
     "output_type": "display_data"
    }
   ],
   "source": [
    "data_final"
   ]
  },
  {
   "cell_type": "markdown",
   "metadata": {},
   "source": [
    "# The End"
   ]
  }
 ],
 "metadata": {
  "kernelspec": {
   "display_name": "R",
   "language": "R",
   "name": "ir"
  },
  "language_info": {
   "codemirror_mode": "r",
   "file_extension": ".r",
   "mimetype": "text/x-r-source",
   "name": "R",
   "pygments_lexer": "r",
   "version": "3.6.3"
  },
  "varInspector": {
   "cols": {
    "lenName": 16,
    "lenType": 16,
    "lenVar": 40
   },
   "kernels_config": {
    "python": {
     "delete_cmd_postfix": "",
     "delete_cmd_prefix": "del ",
     "library": "var_list.py",
     "varRefreshCmd": "print(var_dic_list())"
    },
    "r": {
     "delete_cmd_postfix": ") ",
     "delete_cmd_prefix": "rm(",
     "library": "var_list.r",
     "varRefreshCmd": "cat(var_dic_list()) "
    }
   },
   "types_to_exclude": [
    "module",
    "function",
    "builtin_function_or_method",
    "instance",
    "_Feature"
   ],
   "window_display": false
  }
 },
 "nbformat": 4,
 "nbformat_minor": 4
}
